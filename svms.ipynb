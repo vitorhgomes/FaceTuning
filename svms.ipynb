{
 "cells": [
  {
   "cell_type": "code",
   "execution_count": 3,
   "metadata": {},
   "outputs": [],
   "source": [
    "# Import necessary libraries\n",
    "from sklearn.model_selection import train_test_split\n",
    "from sklearn.svm import LinearSVC\n",
    "from sklearn.metrics import accuracy_score, f1_score\n",
    "\n",
    "import pandas as pd"
   ]
  },
  {
   "cell_type": "code",
   "execution_count": 4,
   "metadata": {},
   "outputs": [],
   "source": [
    "def sample_data(data, label):\n",
    "    # Separate the dataframe into positive and negative examples\n",
    "    positive_examples = data[data[label] == 1]\n",
    "    negative_examples = data[data[label] == 0]\n",
    "\n",
    "    size_positive = len(positive_examples)\n",
    "    size_negative = len(negative_examples)\n",
    "    total = size_positive + size_negative\n",
    "\n",
    "    print(size_negative, size_positive)\n",
    "\n",
    "    # Determine number of samples\n",
    "    min_n_samples = min([len(positive_examples), len(negative_examples)])\n",
    "\n",
    "    if 10*size_negative <= total:\n",
    "        n_samples_positive = 9*size_negative\n",
    "        n_samples_negative = size_negative\n",
    "    elif 10*size_positive <= total:\n",
    "        n_samples_negative = 9*size_positive\n",
    "        n_samples_positive = size_positive\n",
    "    else:\n",
    "        n_samples_positive = size_positive\n",
    "        n_samples_negative = size_negative\n",
    "    \n",
    "    print(n_samples_negative / (n_samples_positive + n_samples_negative))\n",
    "\n",
    "\n",
    "    # Randomly sample at max 3k examples from each group\n",
    "    positive_sample = positive_examples.sample(n=n_samples_positive, replace=False)\n",
    "    negative_sample = negative_examples.sample(n=n_samples_negative, replace=False)\n",
    "\n",
    "    # Concatenate the sampled dataframes\n",
    "    sampled_df = pd.concat([positive_sample, negative_sample], axis=0)\n",
    "\n",
    "    # Reset the index of the resulting dataframe\n",
    "    sampled_df = sampled_df.reset_index(drop=True)\n",
    "\n",
    "    return sampled_df"
   ]
  },
  {
   "cell_type": "code",
   "execution_count": 17,
   "metadata": {},
   "outputs": [],
   "source": [
    "def train_SVC(dataset, label, balanced=False):\n",
    "    # Get dataset\n",
    "    if balanced:\n",
    "        balanced_dataset = sample_data(dataset, label)\n",
    "        X = balanced_dataset.iloc[ : , : 512]\n",
    "        y = balanced_dataset[label]\n",
    "    else:\n",
    "        X = dataset.iloc[ : , : 512]\n",
    "        y = dataset[label]\n",
    "    # Get dataset\n",
    "\n",
    "    print(label)\n",
    "    print(y.value_counts())\n",
    "\n",
    "    # Split the dataset into training and testing sets\n",
    "    X_train, X_test, y_train, y_test = train_test_split(X, y, test_size=0.2)\n",
    "\n",
    "    # Create an SVM classifier object\n",
    "    clf = LinearSVC(max_iter=60000, tol=1e-3, verbose=1, class_weight='balanced')\n",
    "\n",
    "    # Train the SVM classifier on the training data\n",
    "    clf.fit(X_train, y_train)\n",
    "\n",
    "    # Predict the labels of the test data\n",
    "    y_pred = clf.predict(X_train)\n",
    "\n",
    "    # Evaluate the accuracy of the classifier\n",
    "    acc_train = accuracy_score(y_train, y_pred)\n",
    "    print(\"Training Accuracy:\", acc_train)\n",
    "\n",
    "    # Predict the labels of the train data\n",
    "    y_pred = clf.predict(X_test)\n",
    "\n",
    "    # Evaluate the accuracy of the classifier\n",
    "    acc_test = accuracy_score(y_test, y_pred)\n",
    "    print(f\"Test Accuracy: {acc_test}\")\n",
    "\n",
    "    # Evaluate F1 Score\n",
    "    f1 = f1_score(y_test, y_pred)\n",
    "    print(\"F1 score: {:.2f}\".format(f1))\n",
    "\n",
    "    # Analytics\n",
    "    analytics = [label, len(X), acc_train, acc_test, f1, clf.coef_]\n",
    "\n",
    "    return analytics"
   ]
  },
  {
   "cell_type": "code",
   "execution_count": 6,
   "metadata": {},
   "outputs": [],
   "source": [
    "# Load the dataset\n",
    "dataset = pd.read_csv('data\\\\latent_space\\\\latent_space_data_100k')\n",
    "X = dataset.iloc[ : , : 512]\n",
    "y = dataset"
   ]
  },
  {
   "cell_type": "code",
   "execution_count": 5,
   "metadata": {},
   "outputs": [],
   "source": [
    "feature_names = [\"5oClockShadow\", \"ArchedEyebrows\", \"Attractive\", \"BagsUnderEyes\", \"Bald\", \"Bangs\",\n",
    "\"BigLips\", \"BigNose\", \"BlackHair\", \"BlondHair\", \"Blurry\", \"BrownHair\", \"BushyEyebrows\", \"Chubby\",\n",
    "\"DoubleChin\", \"Eyeglasses\", \"Goatee\", \"GrayHair\", \"HeavyMakeup\", \"HighCheekbones\", \"Male\", \n",
    "\"MouthSlightlyOpen\", \"Mustache\", \"NarrowEyes\", \"NoBeard\", \"OvalFace\", \"PaleSkin\", \"PointyNose\", \n",
    "\"RecedingHairline\", \"RosyCheeks\", \"Sideburn\", \"Smiling\", \"StraightHair\", \"WavyHair\", \"WearingEarrings\", \n",
    "\"WearingHat\", \"WearingLipstick\", \"WearingNecklace\", \"WearingNecktie\", \"Young\"]"
   ]
  },
  {
   "cell_type": "code",
   "execution_count": 1,
   "metadata": {},
   "outputs": [
    {
     "ename": "NameError",
     "evalue": "name 'sample_data' is not defined",
     "output_type": "error",
     "traceback": [
      "\u001b[1;31m---------------------------------------------------------------------------\u001b[0m",
      "\u001b[1;31mNameError\u001b[0m                                 Traceback (most recent call last)",
      "Cell \u001b[1;32mIn[1], line 2\u001b[0m\n\u001b[0;32m      1\u001b[0m \u001b[39m# Get balanced dataset\u001b[39;00m\n\u001b[1;32m----> 2\u001b[0m balanced_dataset \u001b[39m=\u001b[39m sample_data(dataset, \u001b[39m'\u001b[39m\u001b[39mYoung\u001b[39m\u001b[39m'\u001b[39m)\n\u001b[0;32m      3\u001b[0m X \u001b[39m=\u001b[39m balanced_dataset\u001b[39m.\u001b[39miloc[ : , : \u001b[39m512\u001b[39m]\n\u001b[0;32m      4\u001b[0m y \u001b[39m=\u001b[39m balanced_dataset\u001b[39m.\u001b[39mArchedEyebrows\n",
      "\u001b[1;31mNameError\u001b[0m: name 'sample_data' is not defined"
     ]
    }
   ],
   "source": [
    "# Get balanced dataset\n",
    "balanced_dataset = sample_data(dataset, 'Young')\n",
    "X = balanced_dataset.iloc[ : , : 512]\n",
    "y = balanced_dataset.ArchedEyebrows\n",
    "\n",
    "balanced_dataset.ArchedEyebrows.value_counts()"
   ]
  },
  {
   "cell_type": "code",
   "execution_count": 13,
   "metadata": {},
   "outputs": [
    {
     "data": {
      "text/plain": [
       "0    2844\n",
       "1     316\n",
       "Name: ArchedEyebrows, dtype: int64"
      ]
     },
     "execution_count": 13,
     "metadata": {},
     "output_type": "execute_result"
    }
   ],
   "source": [
    "balanced_dataset.ArchedEyebrows.value_counts()"
   ]
  },
  {
   "cell_type": "code",
   "execution_count": 36,
   "metadata": {},
   "outputs": [],
   "source": [
    "# Split the dataset into training and testing sets\n",
    "X_train, X_test, y_train, y_test = train_test_split(X, y, test_size=0.3)"
   ]
  },
  {
   "cell_type": "code",
   "execution_count": 37,
   "metadata": {},
   "outputs": [
    {
     "name": "stdout",
     "output_type": "stream",
     "text": [
      "Accuracy: 0.5827777777777777\n"
     ]
    },
    {
     "name": "stderr",
     "output_type": "stream",
     "text": [
      "c:\\Users\\iznop\\AppData\\Local\\Programs\\Python\\Python39\\lib\\site-packages\\sklearn\\svm\\_base.py:1244: ConvergenceWarning: Liblinear failed to converge, increase the number of iterations.\n",
      "  warnings.warn(\n"
     ]
    }
   ],
   "source": [
    "# Create an SVM classifier object\n",
    "clf = LinearSVC()\n",
    "\n",
    "# Train the SVM classifier on the training data\n",
    "clf.fit(X_train, y_train)\n",
    "\n",
    "# Predict the labels of the test data\n",
    "y_pred = clf.predict(X_test)\n",
    "\n",
    "# Evaluate the accuracy of the classifier\n",
    "acc = accuracy_score(y_test, y_pred)\n",
    "print(f\"Accuracy: {acc}\")\n",
    "\n",
    "f1 = f1_score(y_test, y_pred)\n",
    "print(\"F1 score: {:.2f}\".format(f1))"
   ]
  },
  {
   "cell_type": "code",
   "execution_count": 38,
   "metadata": {},
   "outputs": [
    {
     "name": "stderr",
     "output_type": "stream",
     "text": [
      "c:\\Users\\iznop\\AppData\\Local\\Programs\\Python\\Python39\\lib\\site-packages\\sklearn\\svm\\_base.py:1244: ConvergenceWarning: Liblinear failed to converge, increase the number of iterations.\n",
      "  warnings.warn(\n"
     ]
    },
    {
     "data": {
      "text/html": [
       "<style>#sk-container-id-4 {color: black;background-color: white;}#sk-container-id-4 pre{padding: 0;}#sk-container-id-4 div.sk-toggleable {background-color: white;}#sk-container-id-4 label.sk-toggleable__label {cursor: pointer;display: block;width: 100%;margin-bottom: 0;padding: 0.3em;box-sizing: border-box;text-align: center;}#sk-container-id-4 label.sk-toggleable__label-arrow:before {content: \"▸\";float: left;margin-right: 0.25em;color: #696969;}#sk-container-id-4 label.sk-toggleable__label-arrow:hover:before {color: black;}#sk-container-id-4 div.sk-estimator:hover label.sk-toggleable__label-arrow:before {color: black;}#sk-container-id-4 div.sk-toggleable__content {max-height: 0;max-width: 0;overflow: hidden;text-align: left;background-color: #f0f8ff;}#sk-container-id-4 div.sk-toggleable__content pre {margin: 0.2em;color: black;border-radius: 0.25em;background-color: #f0f8ff;}#sk-container-id-4 input.sk-toggleable__control:checked~div.sk-toggleable__content {max-height: 200px;max-width: 100%;overflow: auto;}#sk-container-id-4 input.sk-toggleable__control:checked~label.sk-toggleable__label-arrow:before {content: \"▾\";}#sk-container-id-4 div.sk-estimator input.sk-toggleable__control:checked~label.sk-toggleable__label {background-color: #d4ebff;}#sk-container-id-4 div.sk-label input.sk-toggleable__control:checked~label.sk-toggleable__label {background-color: #d4ebff;}#sk-container-id-4 input.sk-hidden--visually {border: 0;clip: rect(1px 1px 1px 1px);clip: rect(1px, 1px, 1px, 1px);height: 1px;margin: -1px;overflow: hidden;padding: 0;position: absolute;width: 1px;}#sk-container-id-4 div.sk-estimator {font-family: monospace;background-color: #f0f8ff;border: 1px dotted black;border-radius: 0.25em;box-sizing: border-box;margin-bottom: 0.5em;}#sk-container-id-4 div.sk-estimator:hover {background-color: #d4ebff;}#sk-container-id-4 div.sk-parallel-item::after {content: \"\";width: 100%;border-bottom: 1px solid gray;flex-grow: 1;}#sk-container-id-4 div.sk-label:hover label.sk-toggleable__label {background-color: #d4ebff;}#sk-container-id-4 div.sk-serial::before {content: \"\";position: absolute;border-left: 1px solid gray;box-sizing: border-box;top: 0;bottom: 0;left: 50%;z-index: 0;}#sk-container-id-4 div.sk-serial {display: flex;flex-direction: column;align-items: center;background-color: white;padding-right: 0.2em;padding-left: 0.2em;position: relative;}#sk-container-id-4 div.sk-item {position: relative;z-index: 1;}#sk-container-id-4 div.sk-parallel {display: flex;align-items: stretch;justify-content: center;background-color: white;position: relative;}#sk-container-id-4 div.sk-item::before, #sk-container-id-4 div.sk-parallel-item::before {content: \"\";position: absolute;border-left: 1px solid gray;box-sizing: border-box;top: 0;bottom: 0;left: 50%;z-index: -1;}#sk-container-id-4 div.sk-parallel-item {display: flex;flex-direction: column;z-index: 1;position: relative;background-color: white;}#sk-container-id-4 div.sk-parallel-item:first-child::after {align-self: flex-end;width: 50%;}#sk-container-id-4 div.sk-parallel-item:last-child::after {align-self: flex-start;width: 50%;}#sk-container-id-4 div.sk-parallel-item:only-child::after {width: 0;}#sk-container-id-4 div.sk-dashed-wrapped {border: 1px dashed gray;margin: 0 0.4em 0.5em 0.4em;box-sizing: border-box;padding-bottom: 0.4em;background-color: white;}#sk-container-id-4 div.sk-label label {font-family: monospace;font-weight: bold;display: inline-block;line-height: 1.2em;}#sk-container-id-4 div.sk-label-container {text-align: center;}#sk-container-id-4 div.sk-container {/* jupyter's `normalize.less` sets `[hidden] { display: none; }` but bootstrap.min.css set `[hidden] { display: none !important; }` so we also need the `!important` here to be able to override the default hidden behavior on the sphinx rendered scikit-learn.org. See: https://github.com/scikit-learn/scikit-learn/issues/21755 */display: inline-block !important;position: relative;}#sk-container-id-4 div.sk-text-repr-fallback {display: none;}</style><div id=\"sk-container-id-4\" class=\"sk-top-container\"><div class=\"sk-text-repr-fallback\"><pre>LinearSVC()</pre><b>In a Jupyter environment, please rerun this cell to show the HTML representation or trust the notebook. <br />On GitHub, the HTML representation is unable to render, please try loading this page with nbviewer.org.</b></div><div class=\"sk-container\" hidden><div class=\"sk-item\"><div class=\"sk-estimator sk-toggleable\"><input class=\"sk-toggleable__control sk-hidden--visually\" id=\"sk-estimator-id-4\" type=\"checkbox\" checked><label for=\"sk-estimator-id-4\" class=\"sk-toggleable__label sk-toggleable__label-arrow\">LinearSVC</label><div class=\"sk-toggleable__content\"><pre>LinearSVC()</pre></div></div></div></div></div>"
      ],
      "text/plain": [
       "LinearSVC()"
      ]
     },
     "execution_count": 38,
     "metadata": {},
     "output_type": "execute_result"
    }
   ],
   "source": [
    "# Train the SVM classifier on the training data\n",
    "clf.fit(X_train, y_train)"
   ]
  },
  {
   "cell_type": "code",
   "execution_count": 39,
   "metadata": {},
   "outputs": [],
   "source": [
    "# Predict the labels of the test data\n",
    "y_pred = clf.predict(X_train)"
   ]
  },
  {
   "cell_type": "code",
   "execution_count": 40,
   "metadata": {},
   "outputs": [
    {
     "name": "stdout",
     "output_type": "stream",
     "text": [
      "Accuracy: 0.6902380952380952\n"
     ]
    }
   ],
   "source": [
    "# Evaluate the accuracy of the classifier\n",
    "acc = accuracy_score(y_train, y_pred)\n",
    "print(\"Accuracy:\", acc)"
   ]
  },
  {
   "cell_type": "code",
   "execution_count": 6,
   "metadata": {},
   "outputs": [
    {
     "name": "stdout",
     "output_type": "stream",
     "text": [
      "99737 263\n",
      "0.9\n",
      "5oClockShadow\n",
      "0    2367\n",
      "1     263\n",
      "Name: 5oClockShadow, dtype: int64\n",
      "[LibLinear]"
     ]
    },
    {
     "name": "stderr",
     "output_type": "stream",
     "text": [
      "c:\\Users\\vitor\\AppData\\Local\\Programs\\Python\\Python39\\lib\\site-packages\\sklearn\\svm\\_base.py:1244: ConvergenceWarning: Liblinear failed to converge, increase the number of iterations.\n",
      "  warnings.warn(\n"
     ]
    },
    {
     "name": "stdout",
     "output_type": "stream",
     "text": [
      "Training Accuracy: 1.0\n",
      "Test Accuracy: 0.8155893536121673\n",
      "F1 score: 0.29\n",
      "99684 316\n",
      "0.9\n",
      "ArchedEyebrows\n",
      "0    2844\n",
      "1     316\n",
      "Name: ArchedEyebrows, dtype: int64\n",
      "[LibLinear]"
     ]
    },
    {
     "name": "stderr",
     "output_type": "stream",
     "text": [
      "c:\\Users\\vitor\\AppData\\Local\\Programs\\Python\\Python39\\lib\\site-packages\\sklearn\\svm\\_base.py:1244: ConvergenceWarning: Liblinear failed to converge, increase the number of iterations.\n",
      "  warnings.warn(\n"
     ]
    },
    {
     "name": "stdout",
     "output_type": "stream",
     "text": [
      "Training Accuracy: 0.9193037974683544\n",
      "Test Accuracy: 0.8259493670886076\n",
      "F1 score: 0.25\n",
      "98638 1362\n",
      "0.9\n",
      "Attractive\n",
      "0    12258\n",
      "1     1362\n",
      "Name: Attractive, dtype: int64\n",
      "[LibLinear]"
     ]
    },
    {
     "name": "stderr",
     "output_type": "stream",
     "text": [
      "c:\\Users\\vitor\\AppData\\Local\\Programs\\Python\\Python39\\lib\\site-packages\\sklearn\\svm\\_base.py:1244: ConvergenceWarning: Liblinear failed to converge, increase the number of iterations.\n",
      "  warnings.warn(\n"
     ]
    },
    {
     "name": "stdout",
     "output_type": "stream",
     "text": [
      "Training Accuracy: 0.8341593245227606\n",
      "Test Accuracy: 0.8138766519823789\n",
      "F1 score: 0.27\n",
      "99142 858\n",
      "0.9\n",
      "BagsUnderEyes\n",
      "0    7722\n",
      "1     858\n",
      "Name: BagsUnderEyes, dtype: int64\n",
      "[LibLinear]"
     ]
    },
    {
     "name": "stderr",
     "output_type": "stream",
     "text": [
      "c:\\Users\\vitor\\AppData\\Local\\Programs\\Python\\Python39\\lib\\site-packages\\sklearn\\svm\\_base.py:1244: ConvergenceWarning: Liblinear failed to converge, increase the number of iterations.\n",
      "  warnings.warn(\n"
     ]
    },
    {
     "name": "stdout",
     "output_type": "stream",
     "text": [
      "Training Accuracy: 0.856497668997669\n",
      "Test Accuracy: 0.8129370629370629\n",
      "F1 score: 0.23\n",
      "98820 1180\n",
      "0.9\n",
      "Bald\n",
      "0    10620\n",
      "1     1180\n",
      "Name: Bald, dtype: int64\n",
      "[LibLinear]"
     ]
    },
    {
     "name": "stderr",
     "output_type": "stream",
     "text": [
      "c:\\Users\\vitor\\AppData\\Local\\Programs\\Python\\Python39\\lib\\site-packages\\sklearn\\svm\\_base.py:1244: ConvergenceWarning: Liblinear failed to converge, increase the number of iterations.\n",
      "  warnings.warn(\n"
     ]
    },
    {
     "name": "stdout",
     "output_type": "stream",
     "text": [
      "Training Accuracy: 0.8998940677966102\n",
      "Test Accuracy: 0.8838983050847458\n",
      "F1 score: 0.53\n",
      "97202 2798\n",
      "0.9\n",
      "Bangs\n",
      "0    25182\n",
      "1     2798\n",
      "Name: Bangs, dtype: int64\n",
      "[LibLinear]"
     ]
    },
    {
     "name": "stderr",
     "output_type": "stream",
     "text": [
      "c:\\Users\\vitor\\AppData\\Local\\Programs\\Python\\Python39\\lib\\site-packages\\sklearn\\svm\\_base.py:1244: ConvergenceWarning: Liblinear failed to converge, increase the number of iterations.\n",
      "  warnings.warn(\n"
     ]
    },
    {
     "name": "stdout",
     "output_type": "stream",
     "text": [
      "Training Accuracy: 0.8707558970693352\n",
      "Test Accuracy: 0.8656182987848463\n",
      "F1 score: 0.45\n",
      "97086 2914\n",
      "0.9\n",
      "BigLips\n",
      "0    26226\n",
      "1     2914\n",
      "Name: BigLips, dtype: int64\n",
      "[LibLinear]"
     ]
    },
    {
     "name": "stderr",
     "output_type": "stream",
     "text": [
      "c:\\Users\\vitor\\AppData\\Local\\Programs\\Python\\Python39\\lib\\site-packages\\sklearn\\svm\\_base.py:1244: ConvergenceWarning: Liblinear failed to converge, increase the number of iterations.\n",
      "  warnings.warn(\n"
     ]
    },
    {
     "name": "stdout",
     "output_type": "stream",
     "text": [
      "Training Accuracy: 0.8401252573781743\n",
      "Test Accuracy: 0.8323610157858614\n",
      "F1 score: 0.17\n",
      "89327 10673\n",
      "0.89327\n",
      "BigNose\n",
      "0    89327\n",
      "1    10673\n",
      "Name: BigNose, dtype: int64\n",
      "[LibLinear]"
     ]
    },
    {
     "name": "stderr",
     "output_type": "stream",
     "text": [
      "c:\\Users\\vitor\\AppData\\Local\\Programs\\Python\\Python39\\lib\\site-packages\\sklearn\\svm\\_base.py:1244: ConvergenceWarning: Liblinear failed to converge, increase the number of iterations.\n",
      "  warnings.warn(\n"
     ]
    },
    {
     "name": "stdout",
     "output_type": "stream",
     "text": [
      "Training Accuracy: 0.81505\n",
      "Test Accuracy: 0.8109\n",
      "F1 score: 0.19\n",
      "98836 1164\n",
      "0.9\n",
      "BlackHair\n",
      "0    10476\n",
      "1     1164\n",
      "Name: BlackHair, dtype: int64\n",
      "[LibLinear]"
     ]
    },
    {
     "name": "stderr",
     "output_type": "stream",
     "text": [
      "c:\\Users\\vitor\\AppData\\Local\\Programs\\Python\\Python39\\lib\\site-packages\\sklearn\\svm\\_base.py:1244: ConvergenceWarning: Liblinear failed to converge, increase the number of iterations.\n",
      "  warnings.warn(\n"
     ]
    },
    {
     "name": "stdout",
     "output_type": "stream",
     "text": [
      "Training Accuracy: 0.8683419243986255\n",
      "Test Accuracy: 0.843213058419244\n",
      "F1 score: 0.40\n",
      "99656 344\n",
      "0.9\n",
      "BlondHair\n",
      "0    3096\n",
      "1     344\n",
      "Name: BlondHair, dtype: int64\n",
      "[LibLinear]"
     ]
    },
    {
     "name": "stderr",
     "output_type": "stream",
     "text": [
      "c:\\Users\\vitor\\AppData\\Local\\Programs\\Python\\Python39\\lib\\site-packages\\sklearn\\svm\\_base.py:1244: ConvergenceWarning: Liblinear failed to converge, increase the number of iterations.\n",
      "  warnings.warn(\n"
     ]
    },
    {
     "name": "stdout",
     "output_type": "stream",
     "text": [
      "Training Accuracy: 0.967296511627907\n",
      "Test Accuracy: 0.8241279069767442\n",
      "F1 score: 0.32\n",
      "86498 13502\n",
      "0.86498\n",
      "Blurry\n",
      "0    86498\n",
      "1    13502\n",
      "Name: Blurry, dtype: int64\n",
      "[LibLinear]"
     ]
    },
    {
     "name": "stderr",
     "output_type": "stream",
     "text": [
      "c:\\Users\\vitor\\AppData\\Local\\Programs\\Python\\Python39\\lib\\site-packages\\sklearn\\svm\\_base.py:1244: ConvergenceWarning: Liblinear failed to converge, increase the number of iterations.\n",
      "  warnings.warn(\n"
     ]
    },
    {
     "name": "stdout",
     "output_type": "stream",
     "text": [
      "Training Accuracy: 0.8097375\n",
      "Test Accuracy: 0.80815\n",
      "F1 score: 0.33\n",
      "99457 543\n",
      "0.9\n",
      "BrownHair\n",
      "0    4887\n",
      "1     543\n",
      "Name: BrownHair, dtype: int64\n",
      "[LibLinear]"
     ]
    },
    {
     "name": "stderr",
     "output_type": "stream",
     "text": [
      "c:\\Users\\vitor\\AppData\\Local\\Programs\\Python\\Python39\\lib\\site-packages\\sklearn\\svm\\_base.py:1244: ConvergenceWarning: Liblinear failed to converge, increase the number of iterations.\n",
      "  warnings.warn(\n"
     ]
    },
    {
     "name": "stdout",
     "output_type": "stream",
     "text": [
      "Training Accuracy: 0.8943370165745856\n",
      "Test Accuracy: 0.8296500920810314\n",
      "F1 score: 0.38\n",
      "99273 727\n",
      "0.9\n",
      "BushyEyebrows\n",
      "0    6543\n",
      "1     727\n",
      "Name: BushyEyebrows, dtype: int64\n",
      "[LibLinear]"
     ]
    },
    {
     "name": "stderr",
     "output_type": "stream",
     "text": [
      "c:\\Users\\vitor\\AppData\\Local\\Programs\\Python\\Python39\\lib\\site-packages\\sklearn\\svm\\_base.py:1244: ConvergenceWarning: Liblinear failed to converge, increase the number of iterations.\n",
      "  warnings.warn(\n"
     ]
    },
    {
     "name": "stdout",
     "output_type": "stream",
     "text": [
      "Training Accuracy: 0.8834250343878954\n",
      "Test Accuracy: 0.8342503438789546\n",
      "F1 score: 0.34\n",
      "97977 2023\n",
      "0.9\n",
      "Chubby\n",
      "0    18207\n",
      "1     2023\n",
      "Name: Chubby, dtype: int64\n",
      "[LibLinear]"
     ]
    },
    {
     "name": "stderr",
     "output_type": "stream",
     "text": [
      "c:\\Users\\vitor\\AppData\\Local\\Programs\\Python\\Python39\\lib\\site-packages\\sklearn\\svm\\_base.py:1244: ConvergenceWarning: Liblinear failed to converge, increase the number of iterations.\n",
      "  warnings.warn(\n"
     ]
    },
    {
     "name": "stdout",
     "output_type": "stream",
     "text": [
      "Training Accuracy: 0.8584404349975284\n",
      "Test Accuracy: 0.842807711319822\n",
      "F1 score: 0.35\n",
      "99493 507\n",
      "0.9\n",
      "DoubleChin\n",
      "0    4563\n",
      "1     507\n",
      "Name: DoubleChin, dtype: int64\n",
      "[LibLinear]"
     ]
    },
    {
     "name": "stderr",
     "output_type": "stream",
     "text": [
      "c:\\Users\\vitor\\AppData\\Local\\Programs\\Python\\Python39\\lib\\site-packages\\sklearn\\svm\\_base.py:1244: ConvergenceWarning: Liblinear failed to converge, increase the number of iterations.\n",
      "  warnings.warn(\n"
     ]
    },
    {
     "name": "stdout",
     "output_type": "stream",
     "text": [
      "Training Accuracy: 0.8957100591715976\n",
      "Test Accuracy: 0.8165680473372781\n",
      "F1 score: 0.31\n",
      "86949 13051\n",
      "0.86949\n",
      "Eyeglasses\n",
      "0    86949\n",
      "1    13051\n",
      "Name: Eyeglasses, dtype: int64\n",
      "[LibLinear]"
     ]
    },
    {
     "name": "stderr",
     "output_type": "stream",
     "text": [
      "c:\\Users\\vitor\\AppData\\Local\\Programs\\Python\\Python39\\lib\\site-packages\\sklearn\\svm\\_base.py:1244: ConvergenceWarning: Liblinear failed to converge, increase the number of iterations.\n",
      "  warnings.warn(\n"
     ]
    },
    {
     "name": "stdout",
     "output_type": "stream",
     "text": [
      "Training Accuracy: 0.8163875\n",
      "Test Accuracy: 0.8168\n",
      "F1 score: 0.35\n",
      "91971 8029\n",
      "0.9\n",
      "Goatee\n",
      "0    72261\n",
      "1     8029\n",
      "Name: Goatee, dtype: int64\n",
      "[LibLinear]"
     ]
    },
    {
     "name": "stderr",
     "output_type": "stream",
     "text": [
      "c:\\Users\\vitor\\AppData\\Local\\Programs\\Python\\Python39\\lib\\site-packages\\sklearn\\svm\\_base.py:1244: ConvergenceWarning: Liblinear failed to converge, increase the number of iterations.\n",
      "  warnings.warn(\n"
     ]
    },
    {
     "name": "stdout",
     "output_type": "stream",
     "text": [
      "Training Accuracy: 0.8301002615518744\n",
      "Test Accuracy: 0.824386598580147\n",
      "F1 score: 0.20\n",
      "99472 528\n",
      "0.9\n",
      "GrayHair\n",
      "0    4752\n",
      "1     528\n",
      "Name: GrayHair, dtype: int64\n",
      "[LibLinear]"
     ]
    },
    {
     "name": "stderr",
     "output_type": "stream",
     "text": [
      "c:\\Users\\vitor\\AppData\\Local\\Programs\\Python\\Python39\\lib\\site-packages\\sklearn\\svm\\_base.py:1244: ConvergenceWarning: Liblinear failed to converge, increase the number of iterations.\n",
      "  warnings.warn(\n"
     ]
    },
    {
     "name": "stdout",
     "output_type": "stream",
     "text": [
      "Training Accuracy: 0.8880208333333334\n",
      "Test Accuracy: 0.8172348484848485\n",
      "F1 score: 0.32\n",
      "99768 232\n",
      "0.9\n",
      "HeavyMakeup\n",
      "0    2088\n",
      "1     232\n",
      "Name: HeavyMakeup, dtype: int64\n",
      "[LibLinear]"
     ]
    },
    {
     "name": "stderr",
     "output_type": "stream",
     "text": [
      "c:\\Users\\vitor\\AppData\\Local\\Programs\\Python\\Python39\\lib\\site-packages\\sklearn\\svm\\_base.py:1244: ConvergenceWarning: Liblinear failed to converge, increase the number of iterations.\n",
      "  warnings.warn(\n"
     ]
    },
    {
     "name": "stdout",
     "output_type": "stream",
     "text": [
      "Training Accuracy: 0.9946120689655172\n",
      "Test Accuracy: 0.7650862068965517\n",
      "F1 score: 0.17\n",
      "84074 15926\n",
      "0.84074\n",
      "HighCheekbones\n",
      "0    84074\n",
      "1    15926\n",
      "Name: HighCheekbones, dtype: int64\n",
      "[LibLinear]"
     ]
    },
    {
     "name": "stderr",
     "output_type": "stream",
     "text": [
      "c:\\Users\\vitor\\AppData\\Local\\Programs\\Python\\Python39\\lib\\site-packages\\sklearn\\svm\\_base.py:1244: ConvergenceWarning: Liblinear failed to converge, increase the number of iterations.\n",
      "  warnings.warn(\n"
     ]
    },
    {
     "name": "stdout",
     "output_type": "stream",
     "text": [
      "Training Accuracy: 0.79975\n",
      "Test Accuracy: 0.7943\n",
      "F1 score: 0.45\n",
      "37168 62832\n",
      "0.37168\n",
      "Male\n",
      "1    62832\n",
      "0    37168\n",
      "Name: Male, dtype: int64\n",
      "[LibLinear]"
     ]
    },
    {
     "name": "stderr",
     "output_type": "stream",
     "text": [
      "c:\\Users\\vitor\\AppData\\Local\\Programs\\Python\\Python39\\lib\\site-packages\\sklearn\\svm\\_base.py:1244: ConvergenceWarning: Liblinear failed to converge, increase the number of iterations.\n",
      "  warnings.warn(\n"
     ]
    },
    {
     "name": "stdout",
     "output_type": "stream",
     "text": [
      "Training Accuracy: 0.6060625\n",
      "Test Accuracy: 0.59705\n",
      "F1 score: 0.67\n",
      "61939 38061\n",
      "0.61939\n",
      "MouthSlightlyOpen\n",
      "0    61939\n",
      "1    38061\n",
      "Name: MouthSlightlyOpen, dtype: int64\n",
      "[LibLinear]"
     ]
    },
    {
     "name": "stderr",
     "output_type": "stream",
     "text": [
      "c:\\Users\\vitor\\AppData\\Local\\Programs\\Python\\Python39\\lib\\site-packages\\sklearn\\svm\\_base.py:1244: ConvergenceWarning: Liblinear failed to converge, increase the number of iterations.\n",
      "  warnings.warn(\n"
     ]
    },
    {
     "name": "stdout",
     "output_type": "stream",
     "text": [
      "Training Accuracy: 0.6050875\n",
      "Test Accuracy: 0.59515\n",
      "F1 score: 0.49\n",
      "84112 15888\n",
      "0.84112\n",
      "Mustache\n",
      "0    84112\n",
      "1    15888\n",
      "Name: Mustache, dtype: int64\n",
      "[LibLinear]"
     ]
    },
    {
     "name": "stderr",
     "output_type": "stream",
     "text": [
      "c:\\Users\\vitor\\AppData\\Local\\Programs\\Python\\Python39\\lib\\site-packages\\sklearn\\svm\\_base.py:1244: ConvergenceWarning: Liblinear failed to converge, increase the number of iterations.\n",
      "  warnings.warn(\n"
     ]
    },
    {
     "name": "stdout",
     "output_type": "stream",
     "text": [
      "Training Accuracy: 0.75685\n",
      "Test Accuracy: 0.7569\n",
      "F1 score: 0.30\n",
      "88485 11515\n",
      "0.88485\n",
      "NarrowEyes\n",
      "0    88485\n",
      "1    11515\n",
      "Name: NarrowEyes, dtype: int64\n",
      "[LibLinear]"
     ]
    },
    {
     "name": "stderr",
     "output_type": "stream",
     "text": [
      "c:\\Users\\vitor\\AppData\\Local\\Programs\\Python\\Python39\\lib\\site-packages\\sklearn\\svm\\_base.py:1244: ConvergenceWarning: Liblinear failed to converge, increase the number of iterations.\n",
      "  warnings.warn(\n"
     ]
    },
    {
     "name": "stdout",
     "output_type": "stream",
     "text": [
      "Training Accuracy: 0.8119875\n",
      "Test Accuracy: 0.80915\n",
      "F1 score: 0.29\n",
      "46319 53681\n",
      "0.46319\n",
      "NoBeard\n",
      "1    53681\n",
      "0    46319\n",
      "Name: NoBeard, dtype: int64\n",
      "[LibLinear]"
     ]
    },
    {
     "name": "stderr",
     "output_type": "stream",
     "text": [
      "c:\\Users\\vitor\\AppData\\Local\\Programs\\Python\\Python39\\lib\\site-packages\\sklearn\\svm\\_base.py:1244: ConvergenceWarning: Liblinear failed to converge, increase the number of iterations.\n",
      "  warnings.warn(\n"
     ]
    },
    {
     "name": "stdout",
     "output_type": "stream",
     "text": [
      "Training Accuracy: 0.5890125\n",
      "Test Accuracy: 0.587\n",
      "F1 score: 0.61\n",
      "99600 400\n",
      "0.9\n",
      "OvalFace\n",
      "0    3600\n",
      "1     400\n",
      "Name: OvalFace, dtype: int64\n",
      "[LibLinear]"
     ]
    },
    {
     "name": "stderr",
     "output_type": "stream",
     "text": [
      "c:\\Users\\vitor\\AppData\\Local\\Programs\\Python\\Python39\\lib\\site-packages\\sklearn\\svm\\_base.py:1244: ConvergenceWarning: Liblinear failed to converge, increase the number of iterations.\n",
      "  warnings.warn(\n"
     ]
    },
    {
     "name": "stdout",
     "output_type": "stream",
     "text": [
      "Training Accuracy: 0.945625\n",
      "Test Accuracy: 0.84375\n",
      "F1 score: 0.42\n",
      "99954 46\n",
      "0.9\n",
      "PaleSkin\n",
      "0    414\n",
      "1     46\n",
      "Name: PaleSkin, dtype: int64\n",
      "[LibLinear]Training Accuracy: 1.0\n",
      "Test Accuracy: 0.6630434782608695\n",
      "F1 score: 0.11\n",
      "98467 1533\n",
      "0.9\n",
      "PointyNose\n",
      "0    13797\n",
      "1     1533\n",
      "Name: PointyNose, dtype: int64\n",
      "[LibLinear]"
     ]
    },
    {
     "name": "stderr",
     "output_type": "stream",
     "text": [
      "c:\\Users\\vitor\\AppData\\Local\\Programs\\Python\\Python39\\lib\\site-packages\\sklearn\\svm\\_base.py:1244: ConvergenceWarning: Liblinear failed to converge, increase the number of iterations.\n",
      "  warnings.warn(\n"
     ]
    },
    {
     "name": "stdout",
     "output_type": "stream",
     "text": [
      "Training Accuracy: 0.8427919112850619\n",
      "Test Accuracy: 0.8056099151989563\n",
      "F1 score: 0.23\n",
      "89390 10610\n",
      "0.8939\n",
      "RecedingHairline\n",
      "0    89390\n",
      "1    10610\n",
      "Name: RecedingHairline, dtype: int64\n",
      "[LibLinear]"
     ]
    },
    {
     "name": "stderr",
     "output_type": "stream",
     "text": [
      "c:\\Users\\vitor\\AppData\\Local\\Programs\\Python\\Python39\\lib\\site-packages\\sklearn\\svm\\_base.py:1244: ConvergenceWarning: Liblinear failed to converge, increase the number of iterations.\n",
      "  warnings.warn(\n"
     ]
    },
    {
     "name": "stdout",
     "output_type": "stream",
     "text": [
      "Training Accuracy: 0.8310125\n",
      "Test Accuracy: 0.82715\n",
      "F1 score: 0.35\n",
      "99910 90\n",
      "0.9\n",
      "RosyCheeks\n",
      "0    810\n",
      "1     90\n",
      "Name: RosyCheeks, dtype: int64\n",
      "[LibLinear]Training Accuracy: 1.0\n",
      "Test Accuracy: 0.8\n",
      "F1 score: 0.38\n",
      "96951 3049\n",
      "0.9\n",
      "Sideburn\n",
      "0    27441\n",
      "1     3049\n",
      "Name: Sideburn, dtype: int64\n",
      "[LibLinear]"
     ]
    },
    {
     "name": "stderr",
     "output_type": "stream",
     "text": [
      "c:\\Users\\vitor\\AppData\\Local\\Programs\\Python\\Python39\\lib\\site-packages\\sklearn\\svm\\_base.py:1244: ConvergenceWarning: Liblinear failed to converge, increase the number of iterations.\n",
      "  warnings.warn(\n"
     ]
    },
    {
     "name": "stdout",
     "output_type": "stream",
     "text": [
      "Training Accuracy: 0.8484339127582814\n",
      "Test Accuracy: 0.8463430632994424\n",
      "F1 score: 0.32\n",
      "77541 22459\n",
      "0.77541\n",
      "Smiling\n",
      "0    77541\n",
      "1    22459\n",
      "Name: Smiling, dtype: int64\n",
      "[LibLinear]"
     ]
    },
    {
     "name": "stderr",
     "output_type": "stream",
     "text": [
      "c:\\Users\\vitor\\AppData\\Local\\Programs\\Python\\Python39\\lib\\site-packages\\sklearn\\svm\\_base.py:1244: ConvergenceWarning: Liblinear failed to converge, increase the number of iterations.\n",
      "  warnings.warn(\n"
     ]
    },
    {
     "name": "stdout",
     "output_type": "stream",
     "text": [
      "Training Accuracy: 0.75825\n",
      "Test Accuracy: 0.75075\n",
      "F1 score: 0.49\n",
      "99764 236\n",
      "0.9\n",
      "StraightHair\n",
      "0    2124\n",
      "1     236\n",
      "Name: StraightHair, dtype: int64\n",
      "[LibLinear]"
     ]
    },
    {
     "name": "stderr",
     "output_type": "stream",
     "text": [
      "c:\\Users\\vitor\\AppData\\Local\\Programs\\Python\\Python39\\lib\\site-packages\\sklearn\\svm\\_base.py:1244: ConvergenceWarning: Liblinear failed to converge, increase the number of iterations.\n",
      "  warnings.warn(\n"
     ]
    },
    {
     "name": "stdout",
     "output_type": "stream",
     "text": [
      "Training Accuracy: 1.0\n",
      "Test Accuracy: 0.8177966101694916\n",
      "F1 score: 0.25\n",
      "90958 9042\n",
      "0.9\n",
      "WavyHair\n",
      "0    81378\n",
      "1     9042\n",
      "Name: WavyHair, dtype: int64\n",
      "[LibLinear]"
     ]
    },
    {
     "name": "stderr",
     "output_type": "stream",
     "text": [
      "c:\\Users\\vitor\\AppData\\Local\\Programs\\Python\\Python39\\lib\\site-packages\\sklearn\\svm\\_base.py:1244: ConvergenceWarning: Liblinear failed to converge, increase the number of iterations.\n",
      "  warnings.warn(\n"
     ]
    },
    {
     "name": "stdout",
     "output_type": "stream",
     "text": [
      "Training Accuracy: 0.8200895819508959\n",
      "Test Accuracy: 0.8130944481309444\n",
      "F1 score: 0.22\n",
      "99742 258\n",
      "0.9\n",
      "WearingEarrings\n",
      "0    2322\n",
      "1     258\n",
      "Name: WearingEarrings, dtype: int64\n",
      "[LibLinear]"
     ]
    },
    {
     "name": "stderr",
     "output_type": "stream",
     "text": [
      "c:\\Users\\vitor\\AppData\\Local\\Programs\\Python\\Python39\\lib\\site-packages\\sklearn\\svm\\_base.py:1244: ConvergenceWarning: Liblinear failed to converge, increase the number of iterations.\n",
      "  warnings.warn(\n"
     ]
    },
    {
     "name": "stdout",
     "output_type": "stream",
     "text": [
      "Training Accuracy: 0.9869186046511628\n",
      "Test Accuracy: 0.7732558139534884\n",
      "F1 score: 0.21\n",
      "92045 7955\n",
      "0.9\n",
      "WearingHat\n",
      "0    71595\n",
      "1     7955\n",
      "Name: WearingHat, dtype: int64\n",
      "[LibLinear]"
     ]
    },
    {
     "name": "stderr",
     "output_type": "stream",
     "text": [
      "c:\\Users\\vitor\\AppData\\Local\\Programs\\Python\\Python39\\lib\\site-packages\\sklearn\\svm\\_base.py:1244: ConvergenceWarning: Liblinear failed to converge, increase the number of iterations.\n",
      "  warnings.warn(\n"
     ]
    },
    {
     "name": "stdout",
     "output_type": "stream",
     "text": [
      "Training Accuracy: 0.8403834066624765\n",
      "Test Accuracy: 0.8397862979258328\n",
      "F1 score: 0.27\n",
      "97146 2854\n",
      "0.9\n",
      "WearingLipstick\n",
      "0    25686\n",
      "1     2854\n",
      "Name: WearingLipstick, dtype: int64\n",
      "[LibLinear]"
     ]
    },
    {
     "name": "stderr",
     "output_type": "stream",
     "text": [
      "c:\\Users\\vitor\\AppData\\Local\\Programs\\Python\\Python39\\lib\\site-packages\\sklearn\\svm\\_base.py:1244: ConvergenceWarning: Liblinear failed to converge, increase the number of iterations.\n",
      "  warnings.warn(\n"
     ]
    },
    {
     "name": "stdout",
     "output_type": "stream",
     "text": [
      "Training Accuracy: 0.8481079187105817\n",
      "Test Accuracy: 0.8430273300630694\n",
      "F1 score: 0.21\n",
      "99939 61\n",
      "0.9\n",
      "WearingNecklace\n",
      "0    549\n",
      "1     61\n",
      "Name: WearingNecklace, dtype: int64\n",
      "[LibLinear]Training Accuracy: 1.0\n",
      "Test Accuracy: 0.7295081967213115\n",
      "F1 score: 0.23\n",
      "97850 2150\n",
      "0.9\n",
      "WearingNecktie\n",
      "0    19350\n",
      "1     2150\n",
      "Name: WearingNecktie, dtype: int64\n",
      "[LibLinear]"
     ]
    },
    {
     "name": "stderr",
     "output_type": "stream",
     "text": [
      "c:\\Users\\vitor\\AppData\\Local\\Programs\\Python\\Python39\\lib\\site-packages\\sklearn\\svm\\_base.py:1244: ConvergenceWarning: Liblinear failed to converge, increase the number of iterations.\n",
      "  warnings.warn(\n"
     ]
    },
    {
     "name": "stdout",
     "output_type": "stream",
     "text": [
      "Training Accuracy: 0.8604651162790697\n",
      "Test Accuracy: 0.8388372093023255\n",
      "F1 score: 0.37\n",
      "37901 62099\n",
      "0.37901\n",
      "Young\n",
      "1    62099\n",
      "0    37901\n",
      "Name: Young, dtype: int64\n",
      "[LibLinear]Training Accuracy: 0.6185375\n",
      "Test Accuracy: 0.6184\n",
      "F1 score: 0.69\n"
     ]
    },
    {
     "name": "stderr",
     "output_type": "stream",
     "text": [
      "c:\\Users\\vitor\\AppData\\Local\\Programs\\Python\\Python39\\lib\\site-packages\\sklearn\\svm\\_base.py:1244: ConvergenceWarning: Liblinear failed to converge, increase the number of iterations.\n",
      "  warnings.warn(\n"
     ]
    }
   ],
   "source": [
    "cols = ['Feature', 'Data Size', 'Training Accuracy', 'Testing Accuracy', 'F1 Score', 'Normal']\n",
    "svc_data = []\n",
    "for label in feature_names:\n",
    "    analytics = train_SVC(dataset, label, balanced=True)\n",
    "    svc_data.append(analytics)"
   ]
  },
  {
   "cell_type": "code",
   "execution_count": 7,
   "metadata": {},
   "outputs": [
    {
     "data": {
      "text/html": [
       "<div>\n",
       "<style scoped>\n",
       "    .dataframe tbody tr th:only-of-type {\n",
       "        vertical-align: middle;\n",
       "    }\n",
       "\n",
       "    .dataframe tbody tr th {\n",
       "        vertical-align: top;\n",
       "    }\n",
       "\n",
       "    .dataframe thead th {\n",
       "        text-align: right;\n",
       "    }\n",
       "</style>\n",
       "<table border=\"1\" class=\"dataframe\">\n",
       "  <thead>\n",
       "    <tr style=\"text-align: right;\">\n",
       "      <th></th>\n",
       "      <th>Feature</th>\n",
       "      <th>Data Size</th>\n",
       "      <th>Training Accuracy</th>\n",
       "      <th>Testing Accuracy</th>\n",
       "      <th>F1 Score</th>\n",
       "      <th>Normal</th>\n",
       "    </tr>\n",
       "  </thead>\n",
       "  <tbody>\n",
       "    <tr>\n",
       "      <th>0</th>\n",
       "      <td>5oClockShadow</td>\n",
       "      <td>2630</td>\n",
       "      <td>1.000000</td>\n",
       "      <td>0.815589</td>\n",
       "      <td>0.291971</td>\n",
       "      <td>[[0.20616387182721962, -0.1852887032878476, -0...</td>\n",
       "    </tr>\n",
       "    <tr>\n",
       "      <th>1</th>\n",
       "      <td>ArchedEyebrows</td>\n",
       "      <td>3160</td>\n",
       "      <td>0.919304</td>\n",
       "      <td>0.825949</td>\n",
       "      <td>0.246575</td>\n",
       "      <td>[[0.0033585155950519962, -0.09369209687722566,...</td>\n",
       "    </tr>\n",
       "    <tr>\n",
       "      <th>2</th>\n",
       "      <td>Attractive</td>\n",
       "      <td>13620</td>\n",
       "      <td>0.834159</td>\n",
       "      <td>0.813877</td>\n",
       "      <td>0.274678</td>\n",
       "      <td>[[0.010649949568088025, -0.02435262106397855, ...</td>\n",
       "    </tr>\n",
       "    <tr>\n",
       "      <th>3</th>\n",
       "      <td>BagsUnderEyes</td>\n",
       "      <td>8580</td>\n",
       "      <td>0.856498</td>\n",
       "      <td>0.812937</td>\n",
       "      <td>0.230216</td>\n",
       "      <td>[[-0.03482109437807537, 0.01880609993099003, -...</td>\n",
       "    </tr>\n",
       "    <tr>\n",
       "      <th>4</th>\n",
       "      <td>Bald</td>\n",
       "      <td>11800</td>\n",
       "      <td>0.899894</td>\n",
       "      <td>0.883898</td>\n",
       "      <td>0.534014</td>\n",
       "      <td>[[-0.019647980213325283, 0.007708622113970705,...</td>\n",
       "    </tr>\n",
       "    <tr>\n",
       "      <th>5</th>\n",
       "      <td>Bangs</td>\n",
       "      <td>27980</td>\n",
       "      <td>0.870756</td>\n",
       "      <td>0.865618</td>\n",
       "      <td>0.448680</td>\n",
       "      <td>[[0.006340451119322179, 0.012511142019755108, ...</td>\n",
       "    </tr>\n",
       "    <tr>\n",
       "      <th>6</th>\n",
       "      <td>BigLips</td>\n",
       "      <td>29140</td>\n",
       "      <td>0.840125</td>\n",
       "      <td>0.832361</td>\n",
       "      <td>0.168511</td>\n",
       "      <td>[[-0.001042532874640518, 0.004935834719709264,...</td>\n",
       "    </tr>\n",
       "    <tr>\n",
       "      <th>7</th>\n",
       "      <td>BigNose</td>\n",
       "      <td>100000</td>\n",
       "      <td>0.815050</td>\n",
       "      <td>0.810900</td>\n",
       "      <td>0.193947</td>\n",
       "      <td>[[-0.017237408249713072, -0.01066792366029792,...</td>\n",
       "    </tr>\n",
       "    <tr>\n",
       "      <th>8</th>\n",
       "      <td>BlackHair</td>\n",
       "      <td>11640</td>\n",
       "      <td>0.868342</td>\n",
       "      <td>0.843213</td>\n",
       "      <td>0.396694</td>\n",
       "      <td>[[-0.04842956290884508, 0.007079689066247752, ...</td>\n",
       "    </tr>\n",
       "    <tr>\n",
       "      <th>9</th>\n",
       "      <td>BlondHair</td>\n",
       "      <td>3440</td>\n",
       "      <td>0.967297</td>\n",
       "      <td>0.824128</td>\n",
       "      <td>0.324022</td>\n",
       "      <td>[[0.05455862652310837, -0.5923431886420694, -0...</td>\n",
       "    </tr>\n",
       "    <tr>\n",
       "      <th>10</th>\n",
       "      <td>Blurry</td>\n",
       "      <td>100000</td>\n",
       "      <td>0.809737</td>\n",
       "      <td>0.808150</td>\n",
       "      <td>0.333738</td>\n",
       "      <td>[[-0.03762427187680418, 0.01256426435572185, 0...</td>\n",
       "    </tr>\n",
       "    <tr>\n",
       "      <th>11</th>\n",
       "      <td>BrownHair</td>\n",
       "      <td>5430</td>\n",
       "      <td>0.894337</td>\n",
       "      <td>0.829650</td>\n",
       "      <td>0.381271</td>\n",
       "      <td>[[0.0343300649344593, 0.03161549317220061, -0....</td>\n",
       "    </tr>\n",
       "    <tr>\n",
       "      <th>12</th>\n",
       "      <td>BushyEyebrows</td>\n",
       "      <td>7270</td>\n",
       "      <td>0.883425</td>\n",
       "      <td>0.834250</td>\n",
       "      <td>0.343324</td>\n",
       "      <td>[[-0.10578625132947372, 0.012112652983872221, ...</td>\n",
       "    </tr>\n",
       "    <tr>\n",
       "      <th>13</th>\n",
       "      <td>Chubby</td>\n",
       "      <td>20230</td>\n",
       "      <td>0.858440</td>\n",
       "      <td>0.842808</td>\n",
       "      <td>0.354970</td>\n",
       "      <td>[[0.010764775286589305, -0.006897332965060035,...</td>\n",
       "    </tr>\n",
       "    <tr>\n",
       "      <th>14</th>\n",
       "      <td>DoubleChin</td>\n",
       "      <td>5070</td>\n",
       "      <td>0.895710</td>\n",
       "      <td>0.816568</td>\n",
       "      <td>0.311111</td>\n",
       "      <td>[[-0.06360343541318991, -0.026793115476868627,...</td>\n",
       "    </tr>\n",
       "    <tr>\n",
       "      <th>15</th>\n",
       "      <td>Eyeglasses</td>\n",
       "      <td>100000</td>\n",
       "      <td>0.816388</td>\n",
       "      <td>0.816800</td>\n",
       "      <td>0.351734</td>\n",
       "      <td>[[0.017562922814377584, -0.034038070342324055,...</td>\n",
       "    </tr>\n",
       "    <tr>\n",
       "      <th>16</th>\n",
       "      <td>Goatee</td>\n",
       "      <td>80290</td>\n",
       "      <td>0.830100</td>\n",
       "      <td>0.824387</td>\n",
       "      <td>0.197952</td>\n",
       "      <td>[[0.008019776433333077, -0.017587648993468544,...</td>\n",
       "    </tr>\n",
       "    <tr>\n",
       "      <th>17</th>\n",
       "      <td>GrayHair</td>\n",
       "      <td>5280</td>\n",
       "      <td>0.888021</td>\n",
       "      <td>0.817235</td>\n",
       "      <td>0.322807</td>\n",
       "      <td>[[-0.0754828000820394, -0.007233034953401188, ...</td>\n",
       "    </tr>\n",
       "    <tr>\n",
       "      <th>18</th>\n",
       "      <td>HeavyMakeup</td>\n",
       "      <td>2320</td>\n",
       "      <td>0.994612</td>\n",
       "      <td>0.765086</td>\n",
       "      <td>0.167939</td>\n",
       "      <td>[[0.0591173077635809, 0.2802005477060434, -0.3...</td>\n",
       "    </tr>\n",
       "    <tr>\n",
       "      <th>19</th>\n",
       "      <td>HighCheekbones</td>\n",
       "      <td>100000</td>\n",
       "      <td>0.799750</td>\n",
       "      <td>0.794300</td>\n",
       "      <td>0.445104</td>\n",
       "      <td>[[-0.03599083570535527, 0.036386189823566006, ...</td>\n",
       "    </tr>\n",
       "    <tr>\n",
       "      <th>20</th>\n",
       "      <td>Male</td>\n",
       "      <td>100000</td>\n",
       "      <td>0.606062</td>\n",
       "      <td>0.597050</td>\n",
       "      <td>0.668340</td>\n",
       "      <td>[[-0.03296770753371104, -0.018273146498864225,...</td>\n",
       "    </tr>\n",
       "    <tr>\n",
       "      <th>21</th>\n",
       "      <td>MouthSlightlyOpen</td>\n",
       "      <td>100000</td>\n",
       "      <td>0.605088</td>\n",
       "      <td>0.595150</td>\n",
       "      <td>0.494916</td>\n",
       "      <td>[[-0.0167157867923767, -0.002230191086505759, ...</td>\n",
       "    </tr>\n",
       "    <tr>\n",
       "      <th>22</th>\n",
       "      <td>Mustache</td>\n",
       "      <td>100000</td>\n",
       "      <td>0.756850</td>\n",
       "      <td>0.756900</td>\n",
       "      <td>0.299020</td>\n",
       "      <td>[[-0.006423540714653444, 0.018959424348731203,...</td>\n",
       "    </tr>\n",
       "    <tr>\n",
       "      <th>23</th>\n",
       "      <td>NarrowEyes</td>\n",
       "      <td>100000</td>\n",
       "      <td>0.811987</td>\n",
       "      <td>0.809150</td>\n",
       "      <td>0.290652</td>\n",
       "      <td>[[-0.01948372474878263, 0.014002002298308239, ...</td>\n",
       "    </tr>\n",
       "    <tr>\n",
       "      <th>24</th>\n",
       "      <td>NoBeard</td>\n",
       "      <td>100000</td>\n",
       "      <td>0.589013</td>\n",
       "      <td>0.587000</td>\n",
       "      <td>0.611074</td>\n",
       "      <td>[[0.010109185809230398, 0.0007493181350930289,...</td>\n",
       "    </tr>\n",
       "    <tr>\n",
       "      <th>25</th>\n",
       "      <td>OvalFace</td>\n",
       "      <td>4000</td>\n",
       "      <td>0.945625</td>\n",
       "      <td>0.843750</td>\n",
       "      <td>0.418605</td>\n",
       "      <td>[[-0.05549688814012238, -0.06454017755078387, ...</td>\n",
       "    </tr>\n",
       "    <tr>\n",
       "      <th>26</th>\n",
       "      <td>PaleSkin</td>\n",
       "      <td>460</td>\n",
       "      <td>1.000000</td>\n",
       "      <td>0.663043</td>\n",
       "      <td>0.114286</td>\n",
       "      <td>[[-0.03586870194775827, -0.028751436788077324,...</td>\n",
       "    </tr>\n",
       "    <tr>\n",
       "      <th>27</th>\n",
       "      <td>PointyNose</td>\n",
       "      <td>15330</td>\n",
       "      <td>0.842792</td>\n",
       "      <td>0.805610</td>\n",
       "      <td>0.227979</td>\n",
       "      <td>[[0.008564502438042482, 0.03661884028233684, 0...</td>\n",
       "    </tr>\n",
       "    <tr>\n",
       "      <th>28</th>\n",
       "      <td>RecedingHairline</td>\n",
       "      <td>100000</td>\n",
       "      <td>0.831013</td>\n",
       "      <td>0.827150</td>\n",
       "      <td>0.346873</td>\n",
       "      <td>[[-0.030699856889103865, -0.05254479963019694,...</td>\n",
       "    </tr>\n",
       "    <tr>\n",
       "      <th>29</th>\n",
       "      <td>RosyCheeks</td>\n",
       "      <td>900</td>\n",
       "      <td>1.000000</td>\n",
       "      <td>0.800000</td>\n",
       "      <td>0.379310</td>\n",
       "      <td>[[-0.0076831655356305205, -0.06186397184095912...</td>\n",
       "    </tr>\n",
       "    <tr>\n",
       "      <th>30</th>\n",
       "      <td>Sideburn</td>\n",
       "      <td>30490</td>\n",
       "      <td>0.848434</td>\n",
       "      <td>0.846343</td>\n",
       "      <td>0.322487</td>\n",
       "      <td>[[0.001699893586607148, 0.030687081900842544, ...</td>\n",
       "    </tr>\n",
       "    <tr>\n",
       "      <th>31</th>\n",
       "      <td>Smiling</td>\n",
       "      <td>100000</td>\n",
       "      <td>0.758250</td>\n",
       "      <td>0.750750</td>\n",
       "      <td>0.490963</td>\n",
       "      <td>[[-0.059571602741134204, 0.02213626437559258, ...</td>\n",
       "    </tr>\n",
       "    <tr>\n",
       "      <th>32</th>\n",
       "      <td>StraightHair</td>\n",
       "      <td>2360</td>\n",
       "      <td>1.000000</td>\n",
       "      <td>0.817797</td>\n",
       "      <td>0.245614</td>\n",
       "      <td>[[-0.06179701123306231, -0.23348372461920025, ...</td>\n",
       "    </tr>\n",
       "    <tr>\n",
       "      <th>33</th>\n",
       "      <td>WavyHair</td>\n",
       "      <td>90420</td>\n",
       "      <td>0.820090</td>\n",
       "      <td>0.813094</td>\n",
       "      <td>0.220839</td>\n",
       "      <td>[[0.02549859131223223, 0.03145762725882338, -0...</td>\n",
       "    </tr>\n",
       "    <tr>\n",
       "      <th>34</th>\n",
       "      <td>WearingEarrings</td>\n",
       "      <td>2580</td>\n",
       "      <td>0.986919</td>\n",
       "      <td>0.773256</td>\n",
       "      <td>0.214765</td>\n",
       "      <td>[[0.03797860753823366, 0.09278361799543143, -0...</td>\n",
       "    </tr>\n",
       "    <tr>\n",
       "      <th>35</th>\n",
       "      <td>WearingHat</td>\n",
       "      <td>79550</td>\n",
       "      <td>0.840383</td>\n",
       "      <td>0.839786</td>\n",
       "      <td>0.269837</td>\n",
       "      <td>[[-0.016740643915439616, 0.0027547409487285574...</td>\n",
       "    </tr>\n",
       "    <tr>\n",
       "      <th>36</th>\n",
       "      <td>WearingLipstick</td>\n",
       "      <td>28540</td>\n",
       "      <td>0.848108</td>\n",
       "      <td>0.843027</td>\n",
       "      <td>0.208481</td>\n",
       "      <td>[[0.023847042674739832, -0.001886866596110685,...</td>\n",
       "    </tr>\n",
       "    <tr>\n",
       "      <th>37</th>\n",
       "      <td>WearingNecklace</td>\n",
       "      <td>610</td>\n",
       "      <td>1.000000</td>\n",
       "      <td>0.729508</td>\n",
       "      <td>0.232558</td>\n",
       "      <td>[[0.03784123216984993, -0.048846057831941174, ...</td>\n",
       "    </tr>\n",
       "    <tr>\n",
       "      <th>38</th>\n",
       "      <td>WearingNecktie</td>\n",
       "      <td>21500</td>\n",
       "      <td>0.860465</td>\n",
       "      <td>0.838837</td>\n",
       "      <td>0.371714</td>\n",
       "      <td>[[-0.06823251573399201, -0.0057043147903147835...</td>\n",
       "    </tr>\n",
       "    <tr>\n",
       "      <th>39</th>\n",
       "      <td>Young</td>\n",
       "      <td>100000</td>\n",
       "      <td>0.618537</td>\n",
       "      <td>0.618400</td>\n",
       "      <td>0.687239</td>\n",
       "      <td>[[0.031907379218606015, -0.014335981938990968,...</td>\n",
       "    </tr>\n",
       "  </tbody>\n",
       "</table>\n",
       "</div>"
      ],
      "text/plain": [
       "              Feature  Data Size  Training Accuracy  Testing Accuracy  \\\n",
       "0       5oClockShadow       2630           1.000000          0.815589   \n",
       "1      ArchedEyebrows       3160           0.919304          0.825949   \n",
       "2          Attractive      13620           0.834159          0.813877   \n",
       "3       BagsUnderEyes       8580           0.856498          0.812937   \n",
       "4                Bald      11800           0.899894          0.883898   \n",
       "5               Bangs      27980           0.870756          0.865618   \n",
       "6             BigLips      29140           0.840125          0.832361   \n",
       "7             BigNose     100000           0.815050          0.810900   \n",
       "8           BlackHair      11640           0.868342          0.843213   \n",
       "9           BlondHair       3440           0.967297          0.824128   \n",
       "10             Blurry     100000           0.809737          0.808150   \n",
       "11          BrownHair       5430           0.894337          0.829650   \n",
       "12      BushyEyebrows       7270           0.883425          0.834250   \n",
       "13             Chubby      20230           0.858440          0.842808   \n",
       "14         DoubleChin       5070           0.895710          0.816568   \n",
       "15         Eyeglasses     100000           0.816388          0.816800   \n",
       "16             Goatee      80290           0.830100          0.824387   \n",
       "17           GrayHair       5280           0.888021          0.817235   \n",
       "18        HeavyMakeup       2320           0.994612          0.765086   \n",
       "19     HighCheekbones     100000           0.799750          0.794300   \n",
       "20               Male     100000           0.606062          0.597050   \n",
       "21  MouthSlightlyOpen     100000           0.605088          0.595150   \n",
       "22           Mustache     100000           0.756850          0.756900   \n",
       "23         NarrowEyes     100000           0.811987          0.809150   \n",
       "24            NoBeard     100000           0.589013          0.587000   \n",
       "25           OvalFace       4000           0.945625          0.843750   \n",
       "26           PaleSkin        460           1.000000          0.663043   \n",
       "27         PointyNose      15330           0.842792          0.805610   \n",
       "28   RecedingHairline     100000           0.831013          0.827150   \n",
       "29         RosyCheeks        900           1.000000          0.800000   \n",
       "30           Sideburn      30490           0.848434          0.846343   \n",
       "31            Smiling     100000           0.758250          0.750750   \n",
       "32       StraightHair       2360           1.000000          0.817797   \n",
       "33           WavyHair      90420           0.820090          0.813094   \n",
       "34    WearingEarrings       2580           0.986919          0.773256   \n",
       "35         WearingHat      79550           0.840383          0.839786   \n",
       "36    WearingLipstick      28540           0.848108          0.843027   \n",
       "37    WearingNecklace        610           1.000000          0.729508   \n",
       "38     WearingNecktie      21500           0.860465          0.838837   \n",
       "39              Young     100000           0.618537          0.618400   \n",
       "\n",
       "    F1 Score                                             Normal  \n",
       "0   0.291971  [[0.20616387182721962, -0.1852887032878476, -0...  \n",
       "1   0.246575  [[0.0033585155950519962, -0.09369209687722566,...  \n",
       "2   0.274678  [[0.010649949568088025, -0.02435262106397855, ...  \n",
       "3   0.230216  [[-0.03482109437807537, 0.01880609993099003, -...  \n",
       "4   0.534014  [[-0.019647980213325283, 0.007708622113970705,...  \n",
       "5   0.448680  [[0.006340451119322179, 0.012511142019755108, ...  \n",
       "6   0.168511  [[-0.001042532874640518, 0.004935834719709264,...  \n",
       "7   0.193947  [[-0.017237408249713072, -0.01066792366029792,...  \n",
       "8   0.396694  [[-0.04842956290884508, 0.007079689066247752, ...  \n",
       "9   0.324022  [[0.05455862652310837, -0.5923431886420694, -0...  \n",
       "10  0.333738  [[-0.03762427187680418, 0.01256426435572185, 0...  \n",
       "11  0.381271  [[0.0343300649344593, 0.03161549317220061, -0....  \n",
       "12  0.343324  [[-0.10578625132947372, 0.012112652983872221, ...  \n",
       "13  0.354970  [[0.010764775286589305, -0.006897332965060035,...  \n",
       "14  0.311111  [[-0.06360343541318991, -0.026793115476868627,...  \n",
       "15  0.351734  [[0.017562922814377584, -0.034038070342324055,...  \n",
       "16  0.197952  [[0.008019776433333077, -0.017587648993468544,...  \n",
       "17  0.322807  [[-0.0754828000820394, -0.007233034953401188, ...  \n",
       "18  0.167939  [[0.0591173077635809, 0.2802005477060434, -0.3...  \n",
       "19  0.445104  [[-0.03599083570535527, 0.036386189823566006, ...  \n",
       "20  0.668340  [[-0.03296770753371104, -0.018273146498864225,...  \n",
       "21  0.494916  [[-0.0167157867923767, -0.002230191086505759, ...  \n",
       "22  0.299020  [[-0.006423540714653444, 0.018959424348731203,...  \n",
       "23  0.290652  [[-0.01948372474878263, 0.014002002298308239, ...  \n",
       "24  0.611074  [[0.010109185809230398, 0.0007493181350930289,...  \n",
       "25  0.418605  [[-0.05549688814012238, -0.06454017755078387, ...  \n",
       "26  0.114286  [[-0.03586870194775827, -0.028751436788077324,...  \n",
       "27  0.227979  [[0.008564502438042482, 0.03661884028233684, 0...  \n",
       "28  0.346873  [[-0.030699856889103865, -0.05254479963019694,...  \n",
       "29  0.379310  [[-0.0076831655356305205, -0.06186397184095912...  \n",
       "30  0.322487  [[0.001699893586607148, 0.030687081900842544, ...  \n",
       "31  0.490963  [[-0.059571602741134204, 0.02213626437559258, ...  \n",
       "32  0.245614  [[-0.06179701123306231, -0.23348372461920025, ...  \n",
       "33  0.220839  [[0.02549859131223223, 0.03145762725882338, -0...  \n",
       "34  0.214765  [[0.03797860753823366, 0.09278361799543143, -0...  \n",
       "35  0.269837  [[-0.016740643915439616, 0.0027547409487285574...  \n",
       "36  0.208481  [[0.023847042674739832, -0.001886866596110685,...  \n",
       "37  0.232558  [[0.03784123216984993, -0.048846057831941174, ...  \n",
       "38  0.371714  [[-0.06823251573399201, -0.0057043147903147835...  \n",
       "39  0.687239  [[0.031907379218606015, -0.014335981938990968,...  "
      ]
     },
     "execution_count": 7,
     "metadata": {},
     "output_type": "execute_result"
    }
   ],
   "source": [
    "df_svc = pd.DataFrame(svc_data, columns=cols)\n",
    "df_svc"
   ]
  },
  {
   "cell_type": "code",
   "execution_count": 8,
   "metadata": {},
   "outputs": [],
   "source": [
    "df_svc.to_csv('data\\\\svm\\\\C_90_split_90_10_recovery')"
   ]
  },
  {
   "cell_type": "code",
   "execution_count": 9,
   "metadata": {},
   "outputs": [],
   "source": [
    "import pandas as pd\n",
    "df = pd.read_csv('80_pct_squared_hinge')"
   ]
  }
 ],
 "metadata": {
  "kernelspec": {
   "display_name": "Python 3",
   "language": "python",
   "name": "python3"
  },
  "language_info": {
   "codemirror_mode": {
    "name": "ipython",
    "version": 3
   },
   "file_extension": ".py",
   "mimetype": "text/x-python",
   "name": "python",
   "nbconvert_exporter": "python",
   "pygments_lexer": "ipython3",
   "version": "3.9.13"
  },
  "orig_nbformat": 4
 },
 "nbformat": 4,
 "nbformat_minor": 2
}
